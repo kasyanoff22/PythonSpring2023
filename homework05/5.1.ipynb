{
 "cells": [
  {
   "cell_type": "code",
   "execution_count": 4,
   "id": "d5892eb2",
   "metadata": {},
   "outputs": [
    {
     "name": "stdout",
     "output_type": "stream",
     "text": [
      "1 2 3 4 5\n",
      "1 3 5\n"
     ]
    }
   ],
   "source": [
    "#1. Чётные индексы\n",
    "print(*input().split()[::2])"
   ]
  },
  {
   "cell_type": "code",
   "execution_count": 2,
   "id": "191bfb4f",
   "metadata": {},
   "outputs": [
    {
     "name": "stdout",
     "output_type": "stream",
     "text": [
      "1 5 2 3 4\n",
      "5 1\n"
     ]
    }
   ],
   "source": [
    "#2. Наибольший элемент и его индекс\n",
    "a = list(map(int, input().split()))\n",
    "print(max(a), a.index(max(a)))"
   ]
  },
  {
   "cell_type": "code",
   "execution_count": 7,
   "id": "ffd1f429",
   "metadata": {},
   "outputs": [
    {
     "name": "stdout",
     "output_type": "stream",
     "text": [
      "1 4 2 3 5\n",
      "5 3 2 4 1\n"
     ]
    }
   ],
   "source": [
    "#3. В обратном порядке\n",
    "print(input()[::-1])"
   ]
  },
  {
   "cell_type": "code",
   "execution_count": 10,
   "id": "c545e605",
   "metadata": {},
   "outputs": [
    {
     "name": "stdout",
     "output_type": "stream",
     "text": [
      "1 2 3 4 5\n",
      "2 1 4 3 5\n"
     ]
    }
   ],
   "source": [
    "#4. Переставить соседние\n",
    "A = input().split()\n",
    "D, L = map(lambda X, Y: str(Y) + ' ' + str(X), A[::2], A[1::2]), A[-1] if len(A) % 2 else ''\n",
    "print(' '.join(D), L)"
   ]
  },
  {
   "cell_type": "code",
   "execution_count": 9,
   "id": "e2761532",
   "metadata": {},
   "outputs": [
    {
     "name": "stdout",
     "output_type": "stream",
     "text": [
      "[2, 1, 3, 4]\n"
     ]
    }
   ],
   "source": [
    "a = [1, 2, 3, 4]\n",
    "a[0], a[1] = a[1], a[0]\n",
    "print(a)"
   ]
  },
  {
   "cell_type": "code",
   "execution_count": 6,
   "id": "999ccc47",
   "metadata": {},
   "outputs": [
    {
     "name": "stdout",
     "output_type": "stream",
     "text": [
      "1 2 3 4 5\n",
      "5 1 2 3 4\n"
     ]
    }
   ],
   "source": [
    "#5.Циклический сдвиг вправо\n",
    "a = input().split()\n",
    "print(a[-1], *a[:-1])"
   ]
  },
  {
   "cell_type": "code",
   "execution_count": 5,
   "id": "6dceeee4",
   "metadata": {},
   "outputs": [
    {
     "name": "stdout",
     "output_type": "stream",
     "text": [
      "1 2 3 4 5 6\n",
      "2\n",
      "1 2 4 5 6\n"
     ]
    }
   ],
   "source": [
    "#6. Удалить элемент\n",
    "a = input().split()\n",
    "del a[int(input())]\n",
    "print(*a)"
   ]
  },
  {
   "cell_type": "code",
   "execution_count": 12,
   "id": "1c0a9175",
   "metadata": {},
   "outputs": [
    {
     "name": "stdout",
     "output_type": "stream",
     "text": [
      "7 6 5 4 3 2 1\n",
      "2 0\n",
      "7 6 0 5 4 3 2 1\n"
     ]
    }
   ],
   "source": [
    "#7. Вставить элемент\n",
    "a = input().split() \n",
    "n, elem = map(int, input().split())\n",
    "print(' '.join(a[:n]), elem, ' '.join(a[n :]))"
   ]
  },
  {
   "cell_type": "code",
   "execution_count": 8,
   "id": "7af80e1b",
   "metadata": {},
   "outputs": [
    {
     "name": "stdout",
     "output_type": "stream",
     "text": [
      "5 3 7 4 6\n",
      "3\n",
      "7 4 6 5 3\n"
     ]
    }
   ],
   "source": [
    "#8. Большой сдвиг\n",
    "a, n = input().split(), int(input())\n",
    "print(*a[-n:], *a[:-n])"
   ]
  }
 ],
 "metadata": {
  "kernelspec": {
   "display_name": "Python 3 (ipykernel)",
   "language": "python",
   "name": "python3"
  },
  "language_info": {
   "codemirror_mode": {
    "name": "ipython",
    "version": 3
   },
   "file_extension": ".py",
   "mimetype": "text/x-python",
   "name": "python",
   "nbconvert_exporter": "python",
   "pygments_lexer": "ipython3",
   "version": "3.11.0"
  }
 },
 "nbformat": 4,
 "nbformat_minor": 5
}
